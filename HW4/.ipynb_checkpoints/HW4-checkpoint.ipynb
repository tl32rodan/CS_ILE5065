{
 "cells": [
  {
   "cell_type": "code",
   "execution_count": 1,
   "metadata": {},
   "outputs": [],
   "source": [
    "%config IPCompleter.use_jedi=False\n",
    "import numpy as np\n",
    "import pandas as pd\n",
    "import seaborn as sn\n",
    "import matplotlib.pyplot as plt\n",
    "from sklearn.svm import SVC, SVR\n",
    "from sklearn.metrics import accuracy_score\n",
    "from LinearRegressionNN import *"
   ]
  },
  {
   "cell_type": "markdown",
   "metadata": {},
   "source": [
    "## Load data"
   ]
  },
  {
   "cell_type": "code",
   "execution_count": 2,
   "metadata": {},
   "outputs": [],
   "source": [
    "x_train = np.load(\"x_train.npy\")\n",
    "y_train = np.load(\"y_train.npy\")\n",
    "x_test = np.load(\"x_test.npy\")\n",
    "y_test = np.load(\"y_test.npy\")"
   ]
  },
  {
   "cell_type": "code",
   "execution_count": 3,
   "metadata": {},
   "outputs": [
    {
     "name": "stdout",
     "output_type": "stream",
     "text": [
      "(550, 300)\n"
     ]
    }
   ],
   "source": [
    "# 550 data with 300 features\n",
    "print(x_train.shape)"
   ]
  },
  {
   "cell_type": "code",
   "execution_count": 4,
   "metadata": {},
   "outputs": [
    {
     "name": "stdout",
     "output_type": "stream",
     "text": [
      "[0 1]\n"
     ]
    }
   ],
   "source": [
    "# It's a binary classification problem \n",
    "print(np.unique(y_train))"
   ]
  },
  {
   "cell_type": "markdown",
   "metadata": {},
   "source": [
    "## Question 1\n",
    "K-fold data partition: Implement the K-fold cross-validation function. Your function should take K as an argument and return a list of lists (len(list) should equal to K), which contains K elements. Each element is a list contains two parts, the first part contains the index of all training folds, e.g. Fold 2 to Fold 5 in split 1. The second part contains the index of validation fold, e.g. Fold 1 in  split 1"
   ]
  },
  {
   "cell_type": "code",
   "execution_count": 5,
   "metadata": {},
   "outputs": [],
   "source": [
    "def cross_validation(x_train, y_train, k=5):\n",
    "    # Generate shuffling index\n",
    "    index_shuffling = np.arange(len(x_train))\n",
    "    np.random.shuffle(index_shuffling)\n",
    "    \n",
    "    kfold = []\n",
    "    prev_idx = 0\n",
    "    for _k in range(k):\n",
    "        fold_len = len(x_train)//k if _k >= len(x_train)%k else len(x_train)//k + 1\n",
    "        \n",
    "        valid_fold = index_shuffling[prev_idx: prev_idx+fold_len]\n",
    "        train_fold = np.concatenate((index_shuffling[ :prev_idx],\n",
    "                                    index_shuffling[prev_idx+fold_len: ]))\n",
    "        kfold.append((train_fold, valid_fold))\n",
    "        prev_idx += fold_len\n",
    "    \n",
    "    return kfold"
   ]
  },
  {
   "cell_type": "code",
   "execution_count": 6,
   "metadata": {},
   "outputs": [],
   "source": [
    "kfold_data = cross_validation(x_train, y_train, k=10)\n",
    "assert len(kfold_data) == 10 # should contain 10 fold of data\n",
    "assert len(kfold_data[0]) == 2 # each element should contain train fold and validation fold\n",
    "assert kfold_data[0][1].shape[0] == 55 # The number of data in each validation fold should equal to training data divieded by K"
   ]
  },
  {
   "cell_type": "markdown",
   "metadata": {},
   "source": [
    "## example"
   ]
  },
  {
   "cell_type": "code",
   "execution_count": 7,
   "metadata": {},
   "outputs": [
    {
     "name": "stdout",
     "output_type": "stream",
     "text": [
      "Split: 1, Training index: [ 0  1  2  4  6  8  9 10 11 12 13 14 15 16 17 19], Validation index: [ 3  5  7 18]\n",
      "Split: 2, Training index: [ 0  2  3  5  6  7  8  9 10 12 13 14 15 16 18 19], Validation index: [ 1  4 11 17]\n",
      "Split: 3, Training index: [ 1  3  4  5  7  8 10 11 12 13 14 15 16 17 18 19], Validation index: [0 2 6 9]\n",
      "Split: 4, Training index: [ 0  1  2  3  4  5  6  7  9 10 11 12 15 17 18 19], Validation index: [ 8 13 14 16]\n",
      "Split: 5, Training index: [ 0  1  2  3  4  5  6  7  8  9 11 13 14 16 17 18], Validation index: [10 12 15 19]\n"
     ]
    }
   ],
   "source": [
    "from sklearn.model_selection import KFold\n",
    "\n",
    "X = np.arange(20)\n",
    "kf = KFold(n_splits=5, shuffle=True)\n",
    "kfold_data= []\n",
    "for i, (train_index, val_index) in enumerate(kf.split(X)):\n",
    "    print(\"Split: %s, Training index: %s, Validation index: %s\" % (i+1, train_index, val_index))\n",
    "    kfold_data.append([train_index, val_index])"
   ]
  },
  {
   "cell_type": "code",
   "execution_count": 8,
   "metadata": {},
   "outputs": [],
   "source": [
    "assert len(kfold_data) == 5 # should contain 5 fold of data\n",
    "assert len(kfold_data[0]) == 2 # each element should contains index of training fold and validation fold\n",
    "assert kfold_data[0][1].shape[0] == 4 # The number of data in each validation fold should equal to training data divieded by K"
   ]
  },
  {
   "cell_type": "markdown",
   "metadata": {},
   "source": [
    "## Question 2\n",
    "Using sklearn.svm.SVC to train a classifier on the provided train set and conduct the grid search of “C” and “gamma” to find the best parameters by cross-validation."
   ]
  },
  {
   "cell_type": "code",
   "execution_count": 9,
   "metadata": {},
   "outputs": [],
   "source": [
    "## your code\n",
    "C = 10**np.arange(0, 7).astype(float)\n",
    "gamma = 10**np.arange(-10,  -2).astype(float)\n",
    "\n",
    "grid_avg_score = np.zeros((len(C), len(gamma)))\n",
    "\n",
    "K = 5\n",
    "kfold_data = cross_validation(x_train, y_train, k=K)\n",
    "\n",
    "# Grid search\n",
    "best_parameters = None\n",
    "best_model = None\n",
    "best_avg_score = -1\n",
    "\n",
    "for i, _C in enumerate(C):\n",
    "    for j, _gamma in enumerate(gamma):\n",
    "        clf = SVC(C=_C, kernel='rbf', gamma=_gamma)\n",
    "        for train_idx, valid_idx in kfold_data:\n",
    "            clf.fit(x_train[train_idx], y_train[train_idx])\n",
    "            grid_avg_score[i, j] += clf.score(x_train[valid_idx], y_train[valid_idx])\n",
    "        \n",
    "        grid_avg_score[i, j] /= K\n",
    "        if grid_avg_score[i, j] > best_avg_score:\n",
    "            best_parameters = (_C, _gamma)\n",
    "            best_avg_score = grid_avg_score[i, j]\n",
    "            best_model = clf"
   ]
  },
  {
   "cell_type": "code",
   "execution_count": 10,
   "metadata": {},
   "outputs": [
    {
     "name": "stdout",
     "output_type": "stream",
     "text": [
      "(100.0, 0.0001)\n"
     ]
    }
   ],
   "source": [
    "print(best_parameters)"
   ]
  },
  {
   "cell_type": "markdown",
   "metadata": {},
   "source": [
    "## Question 3\n",
    "Plot the grid search results of your SVM. The x, y represents the hyperparameters of “gamma” and “C”, respectively. And the color represents the average score of validation folds\n",
    "You reults should be look like this reference image below ![image](https://miro.medium.com/max/1296/1*wGWTup9r4cVytB5MOnsjdQ.png) "
   ]
  },
  {
   "cell_type": "code",
   "execution_count": 11,
   "metadata": {},
   "outputs": [
    {
     "data": {
      "image/png": "[encoded data removed]",
      "text/plain": [
       "<Figure size 720x720 with 2 Axes>"
      ]
     },
     "metadata": {
      "needs_background": "light"
     },
     "output_type": "display_data"
    }
   ],
   "source": [
    "df_cm = pd.DataFrame(grid_avg_score, index = C, columns = gamma)\n",
    "plt.figure(figsize = (10,10))\n",
    "sn.heatmap(df_cm, annot=True, cbar_kws={\"orientation\": \"vertical\"})\n",
    "plt.xlabel(\"Gamma Parameter\")\n",
    "plt.ylabel(\"C Parameter\")\n",
    "plt.title(\"Hyperparameter Gridsearch\")\n",
    "plt.show()"
   ]
  },
  {
   "cell_type": "markdown",
   "metadata": {},
   "source": [
    "## Question 4\n",
    "Train your SVM model by the best parameters you found from question 2 on the whole training set and evaluate the performance on the test set. **You accuracy should over 0.85**"
   ]
  },
  {
   "cell_type": "code",
   "execution_count": 12,
   "metadata": {},
   "outputs": [
    {
     "name": "stdout",
     "output_type": "stream",
     "text": [
      "Accuracy score:  0.8854166666666666\n"
     ]
    }
   ],
   "source": [
    "y_pred = best_model.predict(x_test)\n",
    "print(\"Accuracy score: \", accuracy_score(y_pred, y_test))"
   ]
  },
  {
   "cell_type": "markdown",
   "metadata": {},
   "source": [
    "## Question 5\n",
    "Compare the performance of the model you have implemented in HW1 with the SVM"
   ]
  },
  {
   "cell_type": "markdown",
   "metadata": {},
   "source": [
    "### HW1"
   ]
  },
  {
   "cell_type": "code",
   "execution_count": 13,
   "metadata": {},
   "outputs": [],
   "source": [
    "train_df = pd.read_csv(\"../HW1/train_data.csv\")\n",
    "x_train = train_df['x_train'].to_numpy().reshape(-1,1)\n",
    "y_train = train_df['y_train'].to_numpy().reshape(-1,1)\n",
    "\n",
    "test_df = pd.read_csv(\"../HW1/test_data.csv\")\n",
    "x_test = test_df['x_test'].to_numpy().reshape(-1,1)\n",
    "y_test = test_df['y_test'].to_numpy().reshape(-1,1)"
   ]
  },
  {
   "cell_type": "markdown",
   "metadata": {},
   "source": [
    "### Train linear regression model"
   ]
  },
  {
   "cell_type": "code",
   "execution_count": 14,
   "metadata": {},
   "outputs": [],
   "source": [
    "def run_Net(data_x, data_y, num_epochs = 10000, batch_size=20, print_freq = 1000, lr=0.05, \\\n",
    "            plot_loss_freq=10, enable_loss_msg = True, num_hidden_units=1, loss_f='mse', return_model=False):\n",
    "    \n",
    "    net = LinearRegressionNN(num_hidden_units, loss_f = loss_f)\n",
    "    data_size = data_x.shape[0]\n",
    "    iter_per_epoch = max(round(data_size/batch_size), 1)\n",
    "    \n",
    "    loss_list = {'loss':[],'epochs':[]}\n",
    "    \n",
    "    for i in range(num_epochs):\n",
    "        # Feed data to network in batch\n",
    "        loss_sublist = []\n",
    "        for j in range(iter_per_epoch):\n",
    "            # Get mini-batch\n",
    "            batch_mask = np.random.choice(data_size, batch_size)\n",
    "            X, y = data_x[batch_mask], data_y[batch_mask]\n",
    "\n",
    "            predict = net.forward(X)\n",
    "            loss = net.cal_loss(predict,y)\n",
    "            loss_sublist.append(loss)\n",
    "            net.backward(lr=lr)\n",
    "\n",
    "        avg_loss = np.mean(loss_sublist)\n",
    "        # 存 loss\n",
    "        if (i+1) % plot_loss_freq == 0:\n",
    "            loss_list['loss'].append(avg_loss)\n",
    "            loss_list['epochs'].append(i)\n",
    "        \n",
    "        if enable_loss_msg and (i+1) % print_freq == 0:\n",
    "            print('epoch {} loss: {}'.format(i+1, avg_loss))\n",
    "    if return_model:\n",
    "        return net.forward(data_x), loss_list, net\n",
    "    else:\n",
    "        return net.forward(data_x), loss_list"
   ]
  },
  {
   "cell_type": "code",
   "execution_count": 15,
   "metadata": {},
   "outputs": [],
   "source": [
    "num_epochs = 500\n",
    "batch_size=1000\n",
    "print_freq = 1e5\n",
    "lr=0.05\n",
    "plot_loss_freq=1\n",
    "\n",
    "pred_y, loss_dict, model = run_Net(x_train, y_train, num_epochs, batch_size, print_freq, lr, plot_loss_freq,\n",
    "                                  loss_f='mse', return_model=True)"
   ]
  },
  {
   "cell_type": "code",
   "execution_count": 16,
   "metadata": {},
   "outputs": [],
   "source": [
    "y_pred_hw1 = model.forward(x_test)"
   ]
  },
  {
   "cell_type": "markdown",
   "metadata": {},
   "source": [
    "### Train SVM regression model"
   ]
  },
  {
   "cell_type": "code",
   "execution_count": 81,
   "metadata": {},
   "outputs": [],
   "source": [
    "C = 10**np.arange(0, 7).astype(float)\n",
    "gamma = 10**np.arange(-10,  -2).astype(float)\n",
    "epsilon = 10**np.arange(-3, 3).astype(float)\n",
    "\n",
    "grid_avg_score = np.zeros((len(C), len(gamma), len(epsilon)))\n",
    "\n",
    "y_train = y_train.reshape(-1)\n",
    "\n",
    "K = 10\n",
    "kfold_data = cross_validation(x_train, y_train, k=K)\n",
    "\n",
    "# Grid search\n",
    "best_parameters = None\n",
    "best_avg_score = np.inf\n",
    "\n",
    "for i, _C in enumerate(C):\n",
    "    for j, _gamma in enumerate(gamma):\n",
    "        for m, _epsilon in enumerate(epsilon):\n",
    "            reg = SVR(C=_C, kernel='rbf', gamma=_gamma, epsilon=_epsilon)\n",
    "            for train_idx, valid_idx in kfold_data:\n",
    "                reg.fit(x_train[train_idx], y_train[train_idx])\n",
    "                y_pred_hw4 = reg.predict(x_test)\n",
    "                \n",
    "                grid_avg_score[i, j, m] += np.mean((y_test.reshape(-1)-y_pred_hw4.reshape(-1))**2)\n",
    "\n",
    "            grid_avg_score[i, j, m] /= K\n",
    "            if grid_avg_score[i, j, m] < best_avg_score:\n",
    "                best_parameters = (_C, _gamma, _epsilon)\n",
    "                best_avg_score = grid_avg_score[i, j, m]"
   ]
  },
  {
   "cell_type": "code",
   "execution_count": 85,
   "metadata": {},
   "outputs": [],
   "source": [
    "_C, _gamma, _epsilon = best_parameters\n",
    "best_model = SVR(C=_C, kernel='rbf', gamma=_gamma, epsilon=_epsilon)\n",
    "best_model.fit(x_train, y_train)\n",
    "y_pred_hw4 = best_model.predict(x_test)"
   ]
  },
  {
   "cell_type": "code",
   "execution_count": 86,
   "metadata": {},
   "outputs": [
    {
     "name": "stdout",
     "output_type": "stream",
     "text": [
      "(1000.0, 0.001, 1.0)\n",
      "0.29027120500979764\n"
     ]
    }
   ],
   "source": [
    "print(best_parameters)\n",
    "print(best_model.score(x_train, y_train))"
   ]
  },
  {
   "cell_type": "code",
   "execution_count": 87,
   "metadata": {},
   "outputs": [
    {
     "name": "stdout",
     "output_type": "stream",
     "text": [
      "Square error of Linear regression:  0.4907623984514101\n",
      "Square error of SVM regresssion model:  0.4899298635285027\n"
     ]
    }
   ],
   "source": [
    "print(\"Square error of Linear regression: \", np.mean((y_test.reshape(-1)-y_pred_hw1.reshape(-1))**2))\n",
    "print(\"Square error of SVM regresssion model: \", np.mean((y_test.reshape(-1)-y_pred_hw4.reshape(-1))**2))"
   ]
  },
  {
   "cell_type": "code",
   "execution_count": null,
   "metadata": {},
   "outputs": [],
   "source": []
  }
 ],
 "metadata": {
  "kernelspec": {
   "display_name": "Python 3",
   "language": "python",
   "name": "python3"
  },
  "language_info": {
   "codemirror_mode": {
    "name": "ipython",
    "version": 3
   },
   "file_extension": ".py",
   "mimetype": "text/x-python",
   "name": "python",
   "nbconvert_exporter": "python",
   "pygments_lexer": "ipython3",
   "version": "3.8.5"
  }
 },
 "nbformat": 4,
 "nbformat_minor": 4
}

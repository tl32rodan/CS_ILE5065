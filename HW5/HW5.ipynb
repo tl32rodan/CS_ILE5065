{
 "cells": [
  {
   "cell_type": "code",
   "execution_count": null,
   "metadata": {},
   "outputs": [],
   "source": [
    "%config IPCompleter.use_jedi=False"
   ]
  },
  {
   "cell_type": "code",
   "execution_count": null,
   "metadata": {},
   "outputs": [],
   "source": [
    "import os\n",
    "import numpy as np\n",
    "\n",
    "import torch\n",
    "import torch.nn as nn\n",
    "import torchvision\n",
    "import torchvision.transforms as trans\n",
    "\n",
    "from torch.utils import data\n",
    "from sklearn.metrics import accuracy_score\n",
    "from resnet import ResNet50\n",
    "from densenet import DenseNet121"
   ]
  },
  {
   "cell_type": "markdown",
   "metadata": {},
   "source": [
    "## Download dataset \n",
    "https://drive.google.com/drive/u/3/folders/1sHh6NvuKX6RB5OytLwf4kaqfQ9svJNDQ"
   ]
  },
  {
   "cell_type": "markdown",
   "metadata": {},
   "source": [
    "## Load data"
   ]
  },
  {
   "cell_type": "code",
   "execution_count": null,
   "metadata": {},
   "outputs": [],
   "source": [
    "x_train = np.load(\"x_train.npy\")\n",
    "y_train = np.load(\"y_train.npy\")\n",
    "\n",
    "x_test = np.load(\"x_test.npy\")\n",
    "y_test = np.load(\"y_test.npy\")\n",
    "\n",
    "print(x_train.shape[0], 'train samples')\n",
    "print(x_test.shape[0], 'test samples')"
   ]
  },
  {
   "cell_type": "code",
   "execution_count": null,
   "metadata": {},
   "outputs": [],
   "source": [
    "# It's a multi-class classification problem \n",
    "class_index = {'airplane': 0, 'automobile': 1, 'bird': 2, 'cat': 3, 'deer': 4,\n",
    "               'dog': 5, 'frog': 6,'horse': 7,'ship': 8, 'truck': 9}\n",
    "print(np.unique(y_train))"
   ]
  },
  {
   "cell_type": "markdown",
   "metadata": {},
   "source": [
    "![image](https://img-blog.csdnimg.cn/20190623084800880.png?x-oss-process=image/watermark,type_ZmFuZ3poZW5naGVpdGk,shadow_10,text_aHR0cHM6Ly9ibG9nLmNzZG4ubmV0L3lqcDE5ODcxMDEz,size_16,color_FFFFFF,t_70)"
   ]
  },
  {
   "cell_type": "markdown",
   "metadata": {},
   "source": [
    "## Data preprocess"
   ]
  },
  {
   "cell_type": "code",
   "execution_count": null,
   "metadata": {},
   "outputs": [],
   "source": [
    "class MyCIFARDataset(data.Dataset):\n",
    "    def __init__(self, images, labels=None, transform=None):\n",
    "        if not (labels is None):\n",
    "            assert len(images) == len(labels)\n",
    "\n",
    "        self.images = images\n",
    "        if transform is None:\n",
    "            self.trans = trans.ToTensor()\n",
    "        else:\n",
    "            self.trans = transform\n",
    "\n",
    "        self.labels = labels\n",
    "\n",
    "    def __len__(self):\n",
    "        return len(self.images)\n",
    "\n",
    "    def __getitem__(self, index):\n",
    "        img = self.images[index]\n",
    "        img = self.trans(img)\n",
    "        if not (self.labels is None):\n",
    "            return img, self.labels[index][0]\n",
    "        else:\n",
    "            return img"
   ]
  },
  {
   "cell_type": "markdown",
   "metadata": {},
   "source": [
    "## Build model & training"
   ]
  },
  {
   "cell_type": "code",
   "execution_count": null,
   "metadata": {},
   "outputs": [],
   "source": [
    "class MyModel:\n",
    "    def __init__(self, net):\n",
    "        self.net = net.cuda()\n",
    "\n",
    "        # Initiate SGD optimizer\n",
    "        self.opt = torch.optim.SGD(\n",
    "            net.parameters(),\n",
    "            lr=0.1,\n",
    "            momentum=0.9,\n",
    "            weight_decay=5e-4\n",
    "        )\n",
    "        self.lr_sch = torch.optim.lr_scheduler.MultiStepLR(\n",
    "            self.opt,\n",
    "            milestones=[150, 250, 350],\n",
    "            gamma=0.1\n",
    "        )\n",
    "\n",
    "        # Use cross-entropy as loss function\n",
    "        self.criterion = nn.CrossEntropyLoss().cuda()\n",
    "\n",
    "        self.train_trans = trans.Compose([\n",
    "                trans.ToPILImage(),\n",
    "                trans.RandomCrop(32, padding=4),\n",
    "                trans.RandomHorizontalFlip(),\n",
    "                trans.RandomRotation(degrees=15),\n",
    "                trans.ToTensor(),\n",
    "                trans.Normalize((0.4914, 0.4822, 0.4465), (0.2023, 0.1994, 0.2010))\n",
    "        ])\n",
    "\n",
    "        self.test_trans = trans.Compose([\n",
    "                trans.ToPILImage(),\n",
    "                trans.ToTensor(),\n",
    "                trans.Normalize((0.4914, 0.4822, 0.4465), (0.2023, 0.1994, 0.2010))\n",
    "        ])\n",
    "\n",
    "    def fit(\n",
    "        self, x_train, y_train,\n",
    "        batch_size=16,\n",
    "        epochs=100,\n",
    "        validation_data=None,\n",
    "        shuffle=True,\n",
    "        store_model=True\n",
    "    ):\n",
    "        # Data preprocessing\n",
    "        self.train_set = MyCIFARDataset(x_train, y_train, self.train_trans)\n",
    "        self.train_loader = data.DataLoader(\n",
    "            dataset=self.train_set,\n",
    "            batch_size=batch_size,\n",
    "            shuffle=shuffle,\n",
    "            drop_last=True,\n",
    "            num_workers=4\n",
    "        )\n",
    "\n",
    "        self.use_val = not (validation_data is None)\n",
    "        if self.use_val:\n",
    "            self.val_set = MyCIFARDataset(validation_data[0], validation_data[1], self.test_trans)\n",
    "            self.val_loader = data.DataLoader(\n",
    "                dataset=self.val_set,\n",
    "                batch_size=16,\n",
    "                shuffle=False,\n",
    "                drop_last=False,\n",
    "                num_workers=4\n",
    "            )\n",
    "\n",
    "        best_acc = 0.\n",
    "        # Start training\n",
    "        for ep in range(epochs):\n",
    "            self.net.train()\n",
    "            # Train\n",
    "            avg_loss = 0.\n",
    "            for input, label in self.train_loader:\n",
    "                input, label = input.cuda(), label.cuda()\n",
    "                output = self.net(input)\n",
    "                loss = self.criterion(output, label)\n",
    "                self.opt.zero_grad()\n",
    "                loss.backward()\n",
    "                self.opt.step()\n",
    "\n",
    "                avg_loss += loss.item()\n",
    "\n",
    "            avg_loss /= len(self.train_loader)\n",
    "            self.lr_sch.step()\n",
    "            print('Epoch {}/{} ; loss={:.4f}'.format(ep, epochs, loss.item()))\n",
    "\n",
    "            if self.use_val:\n",
    "                self.net.eval()\n",
    "                # Evaluate\n",
    "                correct = 0.\n",
    "                total = 0.\n",
    "                for input, label in self.val_loader:\n",
    "                    input, label = input.cuda(), label.cuda()\n",
    "                    output = self.net(input)\n",
    "                    pred = output.data.max(1)[1]\n",
    "                    correct += pred.eq(label.data).cpu().sum()\n",
    "                    total += len(label.data)\n",
    "                acc = (correct / total).item()\n",
    "                print('Accuracy = ', acc)\n",
    "                if acc > best_acc:\n",
    "                    best_acc = acc\n",
    "                    torch.save(self.net.state_dict(), 'Best_model.pth')\n",
    "\n",
    "    def predict(self, x_test, batch_size=16):\n",
    "        self.net.eval()\n",
    "        self.test_set = MyCIFARDataset(x_test, transform=self.test_trans)\n",
    "        self.test_loader = data.DataLoader(\n",
    "            dataset=self.test_set,\n",
    "            batch_size=batch_size,\n",
    "            shuffle=False,\n",
    "            drop_last=False,\n",
    "            num_workers=4\n",
    "        )\n",
    "\n",
    "        preds = np.array([])\n",
    "        for input in self.test_loader:\n",
    "            input = input.cuda()\n",
    "            output = self.net(input)\n",
    "            pred = output.data.max(1)[1].cpu().numpy()\n",
    "            preds = np.concatenate((preds, pred))\n",
    "        return preds"
   ]
  },
  {
   "cell_type": "code",
   "execution_count": null,
   "metadata": {},
   "outputs": [],
   "source": [
    "# Build model\n",
    "net = DenseNet121()\n",
    "\n",
    "model = MyModel(net)"
   ]
  },
  {
   "cell_type": "code",
   "execution_count": null,
   "metadata": {
    "scrolled": true
   },
   "outputs": [],
   "source": [
    "# Setup some hyperparameters\n",
    "batch_size = 128\n",
    "epochs = 600\n",
    "\n",
    "# Fit the data into model\n",
    "model.fit(x_train, y_train,\n",
    "          batch_size=batch_size,\n",
    "          epochs=epochs,\n",
    "          validation_data=(x_test, y_test),\n",
    "          shuffle=True)"
   ]
  },
  {
   "cell_type": "code",
   "execution_count": null,
   "metadata": {},
   "outputs": [],
   "source": [
    "y_pred = model.predict(x_test)\n",
    "print(y_pred.shape) # 10000 samples, each sample with probaility of 10 classes"
   ]
  },
  {
   "cell_type": "code",
   "execution_count": null,
   "metadata": {},
   "outputs": [],
   "source": [
    "np.argmax(y_pred[0]) # argmax to find the predict class with highest probability. 9=truck"
   ]
  },
  {
   "cell_type": "code",
   "execution_count": null,
   "metadata": {},
   "outputs": [],
   "source": [
    "y_pred = np.argmax(y_pred, axis=1)"
   ]
  },
  {
   "cell_type": "markdown",
   "metadata": {},
   "source": [
    "## Evaluate with trained model"
   ]
  },
  {
   "cell_type": "code",
   "execution_count": null,
   "metadata": {},
   "outputs": [],
   "source": [
    "checkpoint = torch.load('./Best_model_dense_net_95.pth')\n",
    "\n",
    "net = DenseNet121()\n",
    "net.load_state_dict(checkpoint)\n",
    "\n",
    "your_model = MyModel(net)"
   ]
  },
  {
   "cell_type": "markdown",
   "metadata": {},
   "source": [
    "## DO NOT MODIFY CODE BELOW!\n",
    "**Please screen shot your results and post it on your report**"
   ]
  },
  {
   "cell_type": "code",
   "execution_count": null,
   "metadata": {},
   "outputs": [],
   "source": [
    "y_pred = your_model.predict(x_test)"
   ]
  },
  {
   "cell_type": "code",
   "execution_count": null,
   "metadata": {},
   "outputs": [],
   "source": [
    "assert y_pred.shape == (10000,)"
   ]
  },
  {
   "cell_type": "code",
   "execution_count": null,
   "metadata": {},
   "outputs": [],
   "source": [
    "y_test = np.load(\"y_test.npy\")\n",
    "print(\"Accuracy of my model on test set: \", accuracy_score(y_test, y_pred))"
   ]
  }
 ],
 "metadata": {
  "kernelspec": {
   "display_name": "Python 3",
   "language": "python",
   "name": "python3"
  },
  "language_info": {
   "codemirror_mode": {
    "name": "ipython",
    "version": 3
   },
   "file_extension": ".py",
   "mimetype": "text/x-python",
   "name": "python",
   "nbconvert_exporter": "python",
   "pygments_lexer": "ipython3",
   "version": "3.8.5"
  }
 },
 "nbformat": 4,
 "nbformat_minor": 4
}
